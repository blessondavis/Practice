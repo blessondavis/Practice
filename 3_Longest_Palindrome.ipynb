{
  "nbformat": 4,
  "nbformat_minor": 0,
  "metadata": {
    "colab": {
      "name": "3_Longest_Palindrome.ipynb",
      "provenance": []
    },
    "kernelspec": {
      "name": "python3",
      "display_name": "Python 3"
    },
    "language_info": {
      "name": "python"
    }
  },
  "cells": [
    {
      "cell_type": "markdown",
      "source": [
        "## Given a string s, return the longest palindromic substring in s."
      ],
      "metadata": {
        "id": "wRbIF9zbHUpd"
      }
    },
    {
      "cell_type": "markdown",
      "source": [
        "**Example** Input: s = \"babad\"\n",
        "\n",
        "Output: \"bab\"\n",
        "\n",
        "Explanation: \"aba\" is also a valid answer."
      ],
      "metadata": {
        "id": "W8VahxckHeDG"
      }
    },
    {
      "cell_type": "code",
      "execution_count": 1,
      "metadata": {
        "colab": {
          "base_uri": "https://localhost:8080/"
        },
        "id": "BIWY45SlHRGf",
        "outputId": "490cea55-6b65-47d9-8646-9f2acac8f4e6"
      },
      "outputs": [
        {
          "output_type": "stream",
          "name": "stdout",
          "text": [
            "malayalam\n"
          ]
        }
      ],
      "source": [
        "#Brute Force method\n",
        "\n",
        "s = 'malayalam'\n",
        "n = len(s)\n",
        "l = 0\n",
        "if n==1:\n",
        "    print(s)\n",
        "else:\n",
        "    for i in range(0,n):\n",
        "        for j in range (i+1,n+1):\n",
        "            sub = s[i:j]\n",
        "            if sub[::-1] == sub and len(sub)>l:\n",
        "                l = len(sub)\n",
        "                long = sub\n",
        "    print(long)"
      ]
    }
  ]
}