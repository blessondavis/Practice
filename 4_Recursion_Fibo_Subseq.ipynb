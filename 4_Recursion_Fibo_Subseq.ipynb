{
  "nbformat": 4,
  "nbformat_minor": 0,
  "metadata": {
    "colab": {
      "name": "Live_Coding_Session_2.ipynb",
      "provenance": []
    },
    "kernelspec": {
      "name": "python3",
      "display_name": "Python 3"
    },
    "language_info": {
      "name": "python"
    }
  },
  "cells": [
    {
      "cell_type": "markdown",
      "source": [
        "## Recursion\n",
        "Better understanding of recursion. (19/03/2022)"
      ],
      "metadata": {
        "id": "v24GfzPek6pa"
      }
    },
    {
      "cell_type": "code",
      "execution_count": null,
      "metadata": {
        "id": "yC-K-qDdktCo"
      },
      "outputs": [],
      "source": [
        "def pd5():\n",
        "  print(5)\n",
        "  pd4()\n",
        "\n",
        "def pd4():\n",
        "  print(4)\n",
        "  pd3()\n",
        "\n",
        "def pd3():\n",
        "  print(3)\n",
        "  pd2()\n",
        "\n",
        "def pd2():\n",
        "  print(2)\n",
        "  pd1()\n",
        "\n",
        "def pd1():\n",
        "  print(1)\n",
        "  return"
      ]
    },
    {
      "cell_type": "code",
      "source": [
        "pd5()"
      ],
      "metadata": {
        "colab": {
          "base_uri": "https://localhost:8080/"
        },
        "id": "wljub8jznXBr",
        "outputId": "2d02b5ea-250d-488e-fd0b-9139a841da6b"
      },
      "execution_count": null,
      "outputs": [
        {
          "output_type": "stream",
          "name": "stdout",
          "text": [
            "5\n",
            "4\n",
            "3\n",
            "2\n",
            "1\n"
          ]
        }
      ]
    },
    {
      "cell_type": "code",
      "source": [
        "def pd(n):\n",
        "\n",
        "  if n == 0:\n",
        "    return\n",
        "  print(n)\n",
        "  pd(n-1)\n"
      ],
      "metadata": {
        "id": "H-Q5WQM_nYsC"
      },
      "execution_count": null,
      "outputs": []
    },
    {
      "cell_type": "code",
      "source": [
        "#Calling the function above\n",
        "pd(5)"
      ],
      "metadata": {
        "colab": {
          "base_uri": "https://localhost:8080/"
        },
        "id": "DvPstesmrEBG",
        "outputId": "9ccc5c77-0e7c-469a-99f5-3d4513de3483"
      },
      "execution_count": null,
      "outputs": [
        {
          "output_type": "stream",
          "name": "stdout",
          "text": [
            "5\n",
            "4\n",
            "3\n",
            "2\n",
            "1\n"
          ]
        }
      ]
    },
    {
      "cell_type": "code",
      "source": [
        "def pd(n):\n",
        "\n",
        "  if n == 0:\n",
        "    return\n",
        "  pd(n-1)\n",
        "  print(n)"
      ],
      "metadata": {
        "id": "bVkUI_IcrIfI"
      },
      "execution_count": null,
      "outputs": []
    },
    {
      "cell_type": "code",
      "source": [
        "#Calling the function with pd(n-1) first then print(n)\n",
        "pd(5)"
      ],
      "metadata": {
        "colab": {
          "base_uri": "https://localhost:8080/"
        },
        "id": "A0zB3GmGrsdj",
        "outputId": "088178ee-7189-4ae7-9d64-fdf89b48aedb"
      },
      "execution_count": null,
      "outputs": [
        {
          "output_type": "stream",
          "name": "stdout",
          "text": [
            "1\n",
            "2\n",
            "3\n",
            "4\n",
            "5\n"
          ]
        }
      ]
    },
    {
      "cell_type": "code",
      "source": [
        "def power(x,y):\n",
        "\n",
        "  if y == 0:\n",
        "    return 1\n",
        "  \n",
        "  sol = power(x,y-1)*x\n",
        "  print(sol)\n",
        "  return sol"
      ],
      "metadata": {
        "id": "he7aZwzesz8y"
      },
      "execution_count": null,
      "outputs": []
    },
    {
      "cell_type": "code",
      "source": [
        "power(10,5)"
      ],
      "metadata": {
        "colab": {
          "base_uri": "https://localhost:8080/"
        },
        "id": "kK6GOA9stOg_",
        "outputId": "9bc4a1c4-2f5a-483f-e191-4c74f5f0d5b3"
      },
      "execution_count": null,
      "outputs": [
        {
          "output_type": "stream",
          "name": "stdout",
          "text": [
            "10\n",
            "100\n",
            "1000\n",
            "10000\n",
            "100000\n"
          ]
        },
        {
          "output_type": "execute_result",
          "data": {
            "text/plain": [
              "100000"
            ]
          },
          "metadata": {},
          "execution_count": 12
        }
      ]
    },
    {
      "cell_type": "code",
      "source": [
        "def power(x, y):\n",
        "  \"\"\"\n",
        "  This is more efficient than the previous code since it\n",
        "  further reduces the computation by dividing the powers \n",
        "  by half each time.\n",
        "  \"\"\"\n",
        "  if y == 0:\n",
        "    return 1\n",
        "\n",
        "  half_pow = power(x, y//2)\n",
        "  sol = half_pow * half_pow\n",
        "  if y%2 == 1:\n",
        "    sol = sol * x\n",
        "  return sol"
      ],
      "metadata": {
        "id": "xzB2zvfiuNze"
      },
      "execution_count": null,
      "outputs": []
    },
    {
      "cell_type": "code",
      "source": [
        "#Fibonocci Series using recursion\n",
        "def fibo(n):\n",
        "  if n < 2:\n",
        "    return n\n",
        "  else:\n",
        "    sol = fibo(n-1)+fibo(n-2)\n",
        "    return sol\n",
        "  \n",
        "  "
      ],
      "metadata": {
        "id": "6_H8ukS7uNsR"
      },
      "execution_count": null,
      "outputs": []
    },
    {
      "cell_type": "code",
      "source": [
        "fibo(7)"
      ],
      "metadata": {
        "colab": {
          "base_uri": "https://localhost:8080/"
        },
        "id": "ZxswwiMPzTtM",
        "outputId": "6fde6c45-285e-4003-fcd0-dc880e098e09"
      },
      "execution_count": null,
      "outputs": [
        {
          "output_type": "execute_result",
          "data": {
            "text/plain": [
              "13"
            ]
          },
          "metadata": {},
          "execution_count": 22
        }
      ]
    },
    {
      "cell_type": "markdown",
      "source": [
        "### Subsequence\n"
      ],
      "metadata": {
        "id": "DWsIGFX53er2"
      }
    },
    {
      "cell_type": "code",
      "source": [
        "def subseq(line, index, solution):\n",
        "  if index == len(line):\n",
        "    if len(solution) > 0:\n",
        "      print(solution)\n",
        "    return\n",
        "\n",
        "  ch = line[index]\n",
        "\n",
        "  subseq(line, index+1, solution + ch)\n",
        "  subseq(line, index+1, solution)"
      ],
      "metadata": {
        "id": "q_LqQV2n0iQa"
      },
      "execution_count": null,
      "outputs": []
    },
    {
      "cell_type": "code",
      "source": [
        "subseq('abc', 0, '')"
      ],
      "metadata": {
        "colab": {
          "base_uri": "https://localhost:8080/"
        },
        "id": "8auvr84c5t8y",
        "outputId": "7939ebb2-277b-403f-8223-416d2d546db0"
      },
      "execution_count": null,
      "outputs": [
        {
          "output_type": "stream",
          "name": "stdout",
          "text": [
            "abc\n",
            "ab\n",
            "ac\n",
            "a\n",
            "bc\n",
            "b\n",
            "c\n"
          ]
        }
      ]
    },
    {
      "cell_type": "code",
      "source": [
        "def subseqRet(line, index, solution, response):\n",
        "  if index == len(line):\n",
        "    if len(solution) > 0:\n",
        "      response.append(solution)\n",
        "    return\n",
        "\n",
        "  ch = line[index]\n",
        "\n",
        "  subseqRet(line, index+1, solution + ch, response)\n",
        "  subseqRet(line, index+1, solution, response)"
      ],
      "metadata": {
        "id": "rM6VylTz6kvF"
      },
      "execution_count": null,
      "outputs": []
    },
    {
      "cell_type": "code",
      "source": [
        "#Getting the subsequence in a list\n",
        "bucket = []\n",
        "subseqRet('abc', 0, '', bucket)\n",
        "print(bucket)"
      ],
      "metadata": {
        "colab": {
          "base_uri": "https://localhost:8080/"
        },
        "id": "yL2GBfTh638A",
        "outputId": "7ae9b229-d704-4b35-f4b7-0581eda70e66"
      },
      "execution_count": null,
      "outputs": [
        {
          "output_type": "stream",
          "name": "stdout",
          "text": [
            "['abc', 'ab', 'ac', 'a', 'bc', 'b', 'c']\n"
          ]
        }
      ]
    }
  ]
}