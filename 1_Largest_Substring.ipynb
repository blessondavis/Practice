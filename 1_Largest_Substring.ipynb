{
  "nbformat": 4,
  "nbformat_minor": 0,
  "metadata": {
    "colab": {
      "name": "1_Largest_Substring.ipynb",
      "provenance": []
    },
    "kernelspec": {
      "name": "python3",
      "display_name": "Python 3"
    },
    "language_info": {
      "name": "python"
    }
  },
  "cells": [
    {
      "cell_type": "markdown",
      "source": [
        "## Given a string s, find the length of the longest substring without repeating characters."
      ],
      "metadata": {
        "id": "dC0QdhgxjJ1q"
      }
    },
    {
      "cell_type": "markdown",
      "source": [
        "Input: s = \"abcabcbb\"\n",
        "\n",
        "Output: 3\n",
        "\n",
        "Explanation: The answer is \"abc\", with the length of 3."
      ],
      "metadata": {
        "id": "Oa2H-KFAjX27"
      }
    },
    {
      "cell_type": "markdown",
      "source": [
        "Input: s = \"pwwkew\"\n",
        "\n",
        "Output: 3\n",
        "\n",
        "Explanation: The answer is \"wke\", with the length of 3.\n",
        "\n",
        "Notice that the answer must be a substring, \"pwke\" is a subsequence and not a substring."
      ],
      "metadata": {
        "id": "pQ4j4YyIjfUX"
      }
    },
    {
      "cell_type": "code",
      "execution_count": null,
      "metadata": {
        "id": "wCzmDIqojFwT"
      },
      "outputs": [],
      "source": [
        "s=input('Enter the string: ')\n",
        "l=[]\n",
        "m=0\n",
        "for i in s:\n",
        "  if i not in l:\n",
        "    l.append(i)\n",
        "    if len(l)>m:\n",
        "      m=len(l)\n",
        "  else:\n",
        "    del l[:l.index(i)+1]\n",
        "    l.append(i)\n",
        "\n",
        "print(m)\n",
        "        "
      ]
    }
  ]
}