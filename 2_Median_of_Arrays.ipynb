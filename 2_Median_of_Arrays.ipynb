{
  "nbformat": 4,
  "nbformat_minor": 0,
  "metadata": {
    "colab": {
      "name": "2_Median_of_Arrays.ipynb",
      "provenance": []
    },
    "kernelspec": {
      "name": "python3",
      "display_name": "Python 3"
    },
    "language_info": {
      "name": "python"
    }
  },
  "cells": [
    {
      "cell_type": "markdown",
      "source": [
        "## Given two sorted arrays nums1 and nums2 of size m and n respectively, return the median of the two sorted arrays."
      ],
      "metadata": {
        "id": "mFo-Ba6ueedD"
      }
    },
    {
      "cell_type": "markdown",
      "source": [
        "\n",
        "**Example:**\n",
        "\n",
        "Input: nums1 = [1,3], nums2 = [2]\n",
        "\n",
        "Output: 2.00000\n",
        "\n",
        "Explanation: merged array = [1,2,3] and median is 2.\n",
        "\n",
        "**Example:**\n",
        "\n",
        "Input: nums1 = [1,2], nums2 = [3,4]\n",
        "\n",
        "Output: 2.50000\n",
        "\n",
        "Explanation: merged array = [1,2,3,4] and median is (2 + 3) / 2 = 2.5."
      ],
      "metadata": {
        "id": "NAE6HsGqfQIk"
      }
    },
    {
      "cell_type": "code",
      "execution_count": null,
      "metadata": {
        "id": "94KDZ982eY5p"
      },
      "outputs": [],
      "source": [
        "nums1=[2, 3, 4]\n",
        "nums2 = [7, 8, 10]\n",
        "a, b = sorted((nums1, nums2), key=len)\n",
        "m, n = len(a), len(b)\n",
        "after = int((m + n - 1) / 2)\n",
        "lo, hi = 0, m\n",
        "while lo < hi:\n",
        "    i = int((lo + hi) / 2)\n",
        "    if after-i-1 < 0 or a[i] >= b[after-i-1]:\n",
        "        hi = i\n",
        "    else:\n",
        "        lo = i + 1\n",
        "i = lo\n",
        "nextfew = sorted(a[i:i+2] + b[after-i:after-i+2])\n",
        "return (nextfew[0] + nextfew[1 - (m+n)%2]) / 2.0"
      ]
    }
  ]
}